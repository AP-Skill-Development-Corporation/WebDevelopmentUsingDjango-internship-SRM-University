{
 "cells": [
  {
   "cell_type": "markdown",
   "metadata": {},
   "source": [
    "<h2 style = \"color:blue\">Task 1</h2>\n",
    "\n",
    "1. Create a dictionary with name Contacts\n",
    "2. Add some contacts to the dictionary (name,phone)\n",
    "3. Write a funtion Search_contact() - It is to search for a particular name\n",
    "\t- if the name in present in dict : return the phone number\n",
    "\t- else : return \"name is not in your contacts\"\n",
    "4. Write a function Add_contact() - It is to add a new (name, phone)\n",
    "5. Write a function Update_contact() \n",
    "\t- This has to update the phone number of a particular name if name is present\n",
    "\t- else: add the new (name,phone)\n",
    "6. Write a function to Delete a contact"
   ]
  },
  {
   "cell_type": "markdown",
   "metadata": {},
   "source": [
    "### Solution"
   ]
  },
  {
   "cell_type": "code",
   "execution_count": 40,
   "metadata": {},
   "outputs": [
    {
     "name": "stdout",
     "output_type": "stream",
     "text": [
      "Adding a Contact Joe : 9876564759 .....\n",
      "{'name': 8767561290, 'Joe': 9876564759}\n",
      "\n",
      "Adding a Contact Maria : 65748393847 .....\n",
      "{'name': 8767561290, 'Joe': 9876564759, 'Maria': 65748393847}\n",
      "\n",
      "Updating Contact Maria : 9654676578 .....\n",
      "{'name': 8767561290, 'Joe': 9876564759, 'Maria': 9654676578}\n",
      "\n",
      "Delete contact name .....\n",
      "Searching for contact name .....\n",
      "Contact with name:name Deleted.....\n",
      "{'Joe': 9876564759, 'Maria': 9654676578}\n",
      "\n"
     ]
    }
   ],
   "source": [
    "def addContact(name,phone):\n",
    "    print(\"Adding a Contact {} : {} .....\".format(name,phone))\n",
    "    contacts[name] = phone\n",
    "    return contacts\n",
    "\n",
    "\n",
    "def UpdateContact(name,phone):\n",
    "    if name in contacts:\n",
    "        print(\"Updating Contact {} : {} .....\".format(name,phone),)\n",
    "        contacts[name]=phone\n",
    "        return contacts\n",
    "    else:\n",
    "        return addContact(name,phone)\n",
    "    \n",
    "\n",
    "def DeleteContact(name):\n",
    "    print(\"Delete contact {} .....\".format(name))\n",
    "    if SearchContact(name):\n",
    "        del contacts[name]\n",
    "        print(\"Contact with name:{} Deleted.....\".format(name))\n",
    "    return contacts\n",
    "\n",
    "\n",
    "def SearchContact(name):\n",
    "    print(\"Searching for contact {} .....\".format(name))\n",
    "    if name in contacts:\n",
    "        return contacts[name]\n",
    "    else:\n",
    "        print( \"There is no such contact : {}\".format(name))\n",
    "        return False\n",
    "    \n",
    "    \n",
    "contacts = {\"name\":8767561290}\n",
    "print(addContact(\"Joe\",9876564759),end=\"\\n\\n\")\n",
    "\n",
    "print(UpdateContact(\"Maria\",65748393847),end=\"\\n\\n\")\n",
    "\n",
    "print(UpdateContact(\"Maria\",9654676578),end=\"\\n\\n\")\n",
    "\n",
    "print(DeleteContact(\"name\"),end=\"\\n\\n\")\n",
    "    "
   ]
  },
  {
   "cell_type": "markdown",
   "metadata": {},
   "source": [
    "<h2 style=\"color:blue\">Task 2</h2>\n",
    "                       \n",
    "1. Create a text file\n",
    "2. Write data into the file\n",
    "3. Count the count_of_words, count_of_numbers and count_of_digits"
   ]
  },
  {
   "cell_type": "markdown",
   "metadata": {},
   "source": [
    "### Solution"
   ]
  },
  {
   "cell_type": "code",
   "execution_count": 67,
   "metadata": {},
   "outputs": [
    {
     "name": "stdout",
     "output_type": "stream",
     "text": [
      "Count of Words : 20\n",
      "Count of Numbers : 20\n",
      "Count of Digits : 31\n"
     ]
    }
   ],
   "source": [
    "def WriteData(filename):\n",
    "    f = open(\"data.txt\",\"w\")\n",
    "    for i in range(1,21):\n",
    "        f.write(\"Line {}\\n\".format(i))\n",
    "    f.close()\n",
    "    \n",
    "    return \n",
    "\n",
    "def Count(filename):\n",
    "    f = open(\"data.txt\",\"r\")\n",
    "    data = f.read()\n",
    "    \n",
    "    words=0\n",
    "    numbers = 0\n",
    "    digits=0\n",
    "    data = data.split()\n",
    "    for i in data:\n",
    "        if i.isalpha():\n",
    "            words+=1\n",
    "        elif i.isdigit():\n",
    "            numbers+=1\n",
    "            digits+=len(i)\n",
    "    return words,numbers,digits\n",
    "\n",
    "filename = \"data.txt\"\n",
    "WriteData(filename)\n",
    "result = Count(data)\n",
    "\n",
    "print(\"Count of Words :\",result[0])\n",
    "print(\"Count of Numbers :\",result[1])\n",
    "print(\"Count of Digits :\",result[2]) "
   ]
  },
  {
   "cell_type": "code",
   "execution_count": null,
   "metadata": {},
   "outputs": [],
   "source": []
  }
 ],
 "metadata": {
  "kernelspec": {
   "display_name": "Python 3",
   "language": "python",
   "name": "python3"
  },
  "language_info": {
   "codemirror_mode": {
    "name": "ipython",
    "version": 3
   },
   "file_extension": ".py",
   "mimetype": "text/x-python",
   "name": "python",
   "nbconvert_exporter": "python",
   "pygments_lexer": "ipython3",
   "version": "3.6.8"
  }
 },
 "nbformat": 4,
 "nbformat_minor": 4
}
